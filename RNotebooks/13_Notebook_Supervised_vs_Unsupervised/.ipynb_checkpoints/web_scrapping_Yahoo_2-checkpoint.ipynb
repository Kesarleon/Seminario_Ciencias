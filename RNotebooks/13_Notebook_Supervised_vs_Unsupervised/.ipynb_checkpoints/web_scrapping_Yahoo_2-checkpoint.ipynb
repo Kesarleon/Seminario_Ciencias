{
 "cells": [
  {
   "cell_type": "code",
   "execution_count": 18,
   "metadata": {},
   "outputs": [
    {
     "name": "stderr",
     "output_type": "stream",
     "text": [
      "/Users/alimon/anaconda2/lib/python2.7/site-packages/urllib3/connectionpool.py:858: InsecureRequestWarning: Unverified HTTPS request is being made. Adding certificate verification is strongly advised. See: https://urllib3.readthedocs.io/en/latest/advanced-usage.html#ssl-warnings\n",
      "  InsecureRequestWarning)\n"
     ]
    },
    {
     "name": "stdout",
     "output_type": "stream",
     "text": [
      "Parsing http://finance.yahoo.com/quote/GOOG?p=GOOG\n"
     ]
    }
   ],
   "source": [
    "from lxml import html  \n",
    "import requests\n",
    "from time import sleep\n",
    "import json\n",
    "import argparse\n",
    "from collections import OrderedDict\n",
    "from time import sleep\n",
    "import pandas as pd\n",
    "\n",
    "\n",
    "tickers= ['GOOG']\n",
    "\n",
    "for ticker in tickers:\n",
    "    #Construir url con nuestros tickers\n",
    "    url = \"http://finance.yahoo.com/quote/%s?p=%s\"%(ticker,ticker)\n",
    "    # Obtener la pagina web con nuestro url construid\n",
    "    response = requests.get(url, verify=False)\n",
    "    print (\"Parsing %s\"%(url))\n",
    "    # Esperar unos segundos para obtener toda la respuesta (Depende de la pagina)\n",
    "    sleep(4)\n",
    "    # Convertir a html de string (response.text es un string)\n",
    "    parser = html.fromstring(response.text)  \n",
    "    # Traer todos los objetos tr dentro de objetos div que contengan summary\n",
    "    summary_table = parser.xpath('//div[contains(@data-test,\"summary-table\")]//tr')\n",
    "    try:\n",
    "        for table_data in summary_table:\n",
    "            raw_table_key = table_data.xpath('.//td[contains(@class,\"C(black)\")]//text()')\n",
    "            raw_table_value = table_data.xpath('.//td[contains(@class,\"Ta(end)\")]//text()')\n",
    "            table_key = ''.join(raw_table_key).strip()\n",
    "            table_value = ''.join(raw_table_value).strip()\n",
    "    except:\n",
    "            print (\"Failed to get Data\")\n",
    "\n",
    "\n"
   ]
  },
  {
   "cell_type": "code",
   "execution_count": null,
   "metadata": {},
   "outputs": [],
   "source": []
  }
 ],
 "metadata": {
  "kernelspec": {
   "display_name": "Python 2",
   "language": "python",
   "name": "python2"
  },
  "language_info": {
   "codemirror_mode": {
    "name": "ipython",
    "version": 2
   },
   "file_extension": ".py",
   "mimetype": "text/x-python",
   "name": "python",
   "nbconvert_exporter": "python",
   "pygments_lexer": "ipython2",
   "version": "2.7.15"
  }
 },
 "nbformat": 4,
 "nbformat_minor": 2
}
